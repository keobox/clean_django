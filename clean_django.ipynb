{
 "cells": [
  {
   "cell_type": "markdown",
   "metadata": {
    "slideshow": {
     "slide_type": "slide"
    }
   },
   "source": [
    "# Django + Clean Architecture + Wine (drinkable Wine)"
   ]
  },
  {
   "cell_type": "markdown",
   "metadata": {
    "slideshow": {
     "slide_type": "slide"
    }
   },
   "source": [
    "## Who am I\n",
    "\n",
    "- Cesare Placanica\n",
    "- Work @ Cisco Photonics\n",
    "- keobox@gmail.com"
   ]
  },
  {
   "cell_type": "markdown",
   "metadata": {
    "slideshow": {
     "slide_type": "slide"
    }
   },
   "source": [
    "## [Datatoy](https://bitbucket.org/keobox/datatoy) was Winedata\n",
    "\n",
    "Back in April 2016...\n",
    "\n",
    "I tried to write an application for Carlo.\n",
    "\n",
    "Carlo was a journalist of a magazine about wines.\n",
    "\n",
    "This was suppose to happen in my free time."
   ]
  },
  {
   "cell_type": "markdown",
   "metadata": {
    "slideshow": {
     "slide_type": "subslide"
    }
   },
   "source": [
    "## Requirements"
   ]
  },
  {
   "cell_type": "markdown",
   "metadata": {
    "slideshow": {
     "slide_type": "fragment"
    }
   },
   "source": [
    "\"I have some data in a bunch of excel file. I want a on premise application where my Customers\n",
    "can display the data, but I do not want to give them the excel files.\""
   ]
  },
  {
   "cell_type": "markdown",
   "metadata": {
    "slideshow": {
     "slide_type": "fragment"
    }
   },
   "source": [
    "\"Ok, fine, but on premise should be difficult, what if we go for a web application?\""
   ]
  },
  {
   "cell_type": "markdown",
   "metadata": {
    "slideshow": {
     "slide_type": "fragment"
    }
   },
   "source": [
    "\"Ok...\" (not so convinced)"
   ]
  },
  {
   "cell_type": "markdown",
   "metadata": {
    "slideshow": {
     "slide_type": "slide"
    }
   },
   "source": [
    "# Yeah! Go for Django + Bokeh!\n",
    "\n",
    "[Sarah Bird - Interactive data for the web - Bokeh for web developers - PyCon 2015](\n",
    "https://www.youtube.com/watch?v=O5OvOLK-xqQ)\n",
    "\n",
    "I watched this and I liked it."
   ]
  },
  {
   "cell_type": "markdown",
   "metadata": {
    "slideshow": {
     "slide_type": "fragment"
    }
   },
   "source": [
    "I wanted to learn Django at last.\n",
    "\n",
    "I wanted to learn Bokeh (and Bootstrap)."
   ]
  },
  {
   "cell_type": "markdown",
   "metadata": {
    "slideshow": {
     "slide_type": "slide"
    }
   },
   "source": [
    "## Demo time"
   ]
  },
  {
   "cell_type": "markdown",
   "metadata": {
    "slideshow": {
     "slide_type": "slide"
    }
   },
   "source": [
    "## More Requirements"
   ]
  },
  {
   "cell_type": "markdown",
   "metadata": {
    "slideshow": {
     "slide_type": "fragment"
    }
   },
   "source": [
    "\"Ok, it's nice I can filter the columns, but is possible to show the market share?\""
   ]
  },
  {
   "cell_type": "markdown",
   "metadata": {
    "slideshow": {
     "slide_type": "fragment"
    }
   },
   "source": [
    "\"Ok, done.\""
   ]
  },
  {
   "cell_type": "markdown",
   "metadata": {
    "slideshow": {
     "slide_type": "fragment"
    }
   },
   "source": [
    "\"It's possible to show the variation year by year?\""
   ]
  },
  {
   "cell_type": "markdown",
   "metadata": {
    "slideshow": {
     "slide_type": "fragment"
    }
   },
   "source": [
    "\"Ok, almost done... wait a bit\"."
   ]
  },
  {
   "cell_type": "markdown",
   "metadata": {
    "slideshow": {
     "slide_type": "slide"
    }
   },
   "source": [
    "## The code was messing up.\n",
    "Code in view.py was becoming a mess.\n",
    "\n",
    "Meanwhile in Python Milano things are getting interesting: many talks about how to organise projects, testing them, tools for getting it right: cokiecutter, pytest, tox, TDD and stuff."
   ]
  },
  {
   "cell_type": "markdown",
   "metadata": {
    "slideshow": {
     "slide_type": "subslide"
    }
   },
   "source": [
    "In May 2016 Leonardo Giordani and Roberto Ciatti provide a fantastic workshop about clean architecture in Python.\n",
    "\n",
    "The workshop [example](https://github.com/gekorob/liebraryrest) was the refactoring of a flask application.\n"
   ]
  },
  {
   "cell_type": "markdown",
   "metadata": {
    "slideshow": {
     "slide_type": "fragment"
    }
   },
   "source": [
    "Idea: **do the same for the new requirements**"
   ]
  },
  {
   "cell_type": "markdown",
   "metadata": {
    "slideshow": {
     "slide_type": "slide"
    }
   },
   "source": [
    "## Clean Architecture\n",
    "\n",
    "Architecture: is a tool for facing the constructions of \"big\" systems."
   ]
  },
  {
   "cell_type": "markdown",
   "metadata": {
    "slideshow": {
     "slide_type": "fragment"
    }
   },
   "source": [
    "A Clean Architecture is an architectural stereotype: a set of rules for decomposing an application in composable and uncoupled pieces"
   ]
  },
  {
   "cell_type": "markdown",
   "metadata": {
    "slideshow": {
     "slide_type": "fragment"
    }
   },
   "source": [
    "The scope is to obtain content and infrastructure separation: separation of concerns."
   ]
  },
  {
   "cell_type": "markdown",
   "metadata": {
    "slideshow": {
     "slide_type": "fragment"
    }
   },
   "source": [
    "Aliases: Hexagonal, Port/Adapter, Onion."
   ]
  },
  {
   "cell_type": "markdown",
   "metadata": {
    "slideshow": {
     "slide_type": "subslide"
    }
   },
   "source": [
    "There are many versions but I like the [Bob's one](http://blog.cleancoder.com/uncle-bob/2012/08/13/the-clean-architecture.html)."
   ]
  },
  {
   "cell_type": "markdown",
   "metadata": {
    "slideshow": {
     "slide_type": "fragment"
    }
   },
   "source": [
    "The Dependency Rule. This rule says that source code dependencies can only point inwards."
   ]
  },
  {
   "cell_type": "markdown",
   "metadata": {
    "slideshow": {
     "slide_type": "fragment"
    }
   },
   "source": [
    "When **crossing boudaries** the execution flow may go from internal to external layers, but using the **Dependency Inversion Principle** we can enforce that the dependencies will point always inward if external layer implements interfaces defined in internal layer. Example, no \"direct\" calls from a use case to a presenter."
   ]
  },
  {
   "cell_type": "markdown",
   "metadata": {
    "slideshow": {
     "slide_type": "fragment"
    }
   },
   "source": [
    "When **crossing boundaries** simple data structures are exchanged."
   ]
  },
  {
   "cell_type": "markdown",
   "metadata": {
    "slideshow": {
     "slide_type": "slide"
    }
   },
   "source": [
    "Refactoring demo, look at views.py."
   ]
  },
  {
   "cell_type": "markdown",
   "metadata": {
    "slideshow": {
     "slide_type": "subslide"
    }
   },
   "source": [
    "I used more an Onion schema, the presenters call use case methods and not vice versa.\n",
    "\n",
    "This is because use cases do only data manipulation but not orchestrate visualization.\n",
    "\n",
    "All the wiring, happens in views.py."
   ]
  },
  {
   "cell_type": "markdown",
   "metadata": {
    "slideshow": {
     "slide_type": "slide"
    }
   },
   "source": [
    "## Requirements again...\n",
    "\n",
    "\"Ok, we have filters, percentage, variation, but I don't like the graphics.\""
   ]
  },
  {
   "cell_type": "markdown",
   "metadata": {
    "slideshow": {
     "slide_type": "fragment"
    }
   },
   "source": [
    "Implemented three new presenters in very few time."
   ]
  },
  {
   "cell_type": "markdown",
   "metadata": {
    "slideshow": {
     "slide_type": "fragment"
    }
   },
   "source": [
    "\"I want the value popping out like in excel.\""
   ]
  },
  {
   "cell_type": "markdown",
   "metadata": {
    "slideshow": {
     "slide_type": "fragment"
    }
   },
   "source": [
    "Implemented the hovering tool in the presenters."
   ]
  },
  {
   "cell_type": "markdown",
   "metadata": {
    "slideshow": {
     "slide_type": "fragment"
    }
   },
   "source": [
    "\"Ok, but the hover tool does not stick on the point like in excel.\""
   ]
  },
  {
   "cell_type": "markdown",
   "metadata": {
    "slideshow": {
     "slide_type": "fragment"
    }
   },
   "source": [
    "Stick implemented, but still not \"like in excel\"."
   ]
  },
  {
   "cell_type": "markdown",
   "metadata": {
    "slideshow": {
     "slide_type": "subslide"
    }
   },
   "source": [
    "\"Ok, I would prefers the user can download the data in the excel.\""
   ]
  },
  {
   "cell_type": "markdown",
   "metadata": {
    "slideshow": {
     "slide_type": "fragment"
    }
   },
   "source": [
    "Write a new presenter to export data in excel."
   ]
  },
  {
   "cell_type": "markdown",
   "metadata": {
    "slideshow": {
     "slide_type": "subslide"
    }
   },
   "source": [
    "\"Ok, at the end I would prefer that the user have the possibility to download the original excel document\"."
   ]
  },
  {
   "cell_type": "markdown",
   "metadata": {
    "slideshow": {
     "slide_type": "fragment"
    }
   },
   "source": [
    "\"Ok, you know what, I think all you need is Dropbox!\""
   ]
  },
  {
   "cell_type": "markdown",
   "metadata": {
    "slideshow": {
     "slide_type": "fragment"
    }
   },
   "source": [
    "Project ended :-)"
   ]
  },
  {
   "cell_type": "markdown",
   "metadata": {
    "slideshow": {
     "slide_type": "slide"
    }
   },
   "source": [
    "But..."
   ]
  },
  {
   "cell_type": "markdown",
   "metadata": {
    "slideshow": {
     "slide_type": "fragment"
    }
   },
   "source": [
    "<img src=\"20171230_193403.jpg\" alt=\"Drawing\" style=\"float:left;transform: rotate(90deg); width: 500px;\">"
   ]
  },
  {
   "cell_type": "markdown",
   "metadata": {
    "slideshow": {
     "slide_type": "subslide"
    }
   },
   "source": [
    "At least I earned a bottle of Prosecco."
   ]
  },
  {
   "cell_type": "markdown",
   "metadata": {
    "slideshow": {
     "slide_type": "slide"
    }
   },
   "source": [
    "## Takeaways\n",
    "\n",
    "- Customers are tough.\n",
    "- TDD and Clean Architecture work in synergy.\n",
    "- Enforce interfaces with tests (especially true with Python or dynamic type languages).\n",
    "- Wiring happens in view.py\n",
    "- Given that business logic was: display, manipulate charts, is still possible to use Django for views that out of scope of business logic. For example index view just displays a list of charts.\n",
    "- Django features are still valuable: authentication, admin etc."
   ]
  },
  {
   "cell_type": "markdown",
   "metadata": {
    "slideshow": {
     "slide_type": "slide"
    }
   },
   "source": [
    "## References\n",
    "- Object Oriented Software Engineering: A Use-Case Driven Approach - Ivar Jacobson\n",
    "- Growing Object-Oriented Software, Guided by Tests - Steve Freeman, and Nat Pryce"
   ]
  },
  {
   "cell_type": "markdown",
   "metadata": {
    "slideshow": {
     "slide_type": "slide"
    }
   },
   "source": [
    "## Kata\n",
    "\n",
    "- [Leonardo Giordani - Clean architectures in Python: a step-by-step example](http://www.thedigitalcatonline.com/blog/2016/11/14/clean-architectures-in-python-a-step-by-step-example/)\n",
    "- [Matteo Vaccari - The birthday greetings kata](http://matteo.vaccari.name/blog/archives/154)\n",
    "- [Matteo Baglini - Onion Architecture with Pure Functional Programming sauce](https://github.com/matteobaglini/onion-with-functional-programming)\n"
   ]
  }
 ],
 "metadata": {
  "celltoolbar": "Slideshow",
  "kernelspec": {
   "display_name": "Python 3",
   "language": "python",
   "name": "python3"
  },
  "language_info": {
   "codemirror_mode": {
    "name": "ipython",
    "version": 3
   },
   "file_extension": ".py",
   "mimetype": "text/x-python",
   "name": "python",
   "nbconvert_exporter": "python",
   "pygments_lexer": "ipython3",
   "version": "3.5.2"
  }
 },
 "nbformat": 4,
 "nbformat_minor": 2
}
