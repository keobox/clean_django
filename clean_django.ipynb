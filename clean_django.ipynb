{
 "cells": [
  {
   "cell_type": "markdown",
   "metadata": {
    "slideshow": {
     "slide_type": "slide"
    }
   },
   "source": [
    "# Django + Clean Architecture + Wine (drinkable Wine)"
   ]
  },
  {
   "cell_type": "markdown",
   "metadata": {
    "slideshow": {
     "slide_type": "slide"
    }
   },
   "source": [
    "## Who am I\n",
    "\n",
    "- Cesare Placanica\n",
    "- Work @ Cisco Photonics\n",
    "- keobox@gmail.com"
   ]
  },
  {
   "cell_type": "markdown",
   "metadata": {
    "slideshow": {
     "slide_type": "slide"
    }
   },
   "source": [
    "## [Datatoy](https://bitbucket.org/keobox/datatoy) was Winedata\n",
    "\n",
    "Back in April 2016...\n",
    "\n",
    "I tried to write an application for Carlo.\n",
    "\n",
    "Carlo was a journalist of a magazine about wines.\n",
    "\n",
    "This was suppose to happen in my free time."
   ]
  },
  {
   "cell_type": "markdown",
   "metadata": {
    "slideshow": {
     "slide_type": "subslide"
    }
   },
   "source": [
    "## Requirements"
   ]
  },
  {
   "cell_type": "markdown",
   "metadata": {
    "slideshow": {
     "slide_type": "fragment"
    }
   },
   "source": [
    "\"I have some data in a bunch of excel file. I want a on premise application where my Customers\n",
    "can display the data, but I do not want to give them the excel files.\""
   ]
  },
  {
   "cell_type": "markdown",
   "metadata": {
    "slideshow": {
     "slide_type": "fragment"
    }
   },
   "source": [
    "\"Ok, fine, but on premise should be difficult, what if we go for a web application?\""
   ]
  },
  {
   "cell_type": "markdown",
   "metadata": {
    "slideshow": {
     "slide_type": "fragment"
    }
   },
   "source": [
    "\"Ok...\" (not so convinced)"
   ]
  },
  {
   "cell_type": "markdown",
   "metadata": {
    "slideshow": {
     "slide_type": "slide"
    }
   },
   "source": [
    "# Yeah! Go for Django + Bokeh!\n",
    "\n",
    "[Sarah Bird - Interactive data for the web - Bokeh for web developers - PyCon 2015](\n",
    "https://www.youtube.com/watch?v=O5OvOLK-xqQ)\n",
    "\n",
    "I watched this and I liked it."
   ]
  },
  {
   "cell_type": "markdown",
   "metadata": {
    "slideshow": {
     "slide_type": "fragment"
    }
   },
   "source": [
    "I wanted to learn Django at last.\n",
    "\n",
    "I wanted to learn Bokeh (and Bootstrap)."
   ]
  },
  {
   "cell_type": "markdown",
   "metadata": {
    "slideshow": {
     "slide_type": "slide"
    }
   },
   "source": [
    "## Demo time"
   ]
  }
 ],
 "metadata": {
  "celltoolbar": "Slideshow",
  "kernelspec": {
   "display_name": "Python 3",
   "language": "python",
   "name": "python3"
  },
  "language_info": {
   "codemirror_mode": {
    "name": "ipython",
    "version": 3
   },
   "file_extension": ".py",
   "mimetype": "text/x-python",
   "name": "python",
   "nbconvert_exporter": "python",
   "pygments_lexer": "ipython3",
   "version": "3.5.2"
  }
 },
 "nbformat": 4,
 "nbformat_minor": 2
}
